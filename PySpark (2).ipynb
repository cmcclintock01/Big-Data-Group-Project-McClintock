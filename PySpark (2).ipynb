{
 "cells": [
  {
   "cell_type": "code",
   "execution_count": 2,
   "id": "42df03f2-302e-4b93-8b28-93155bf77852",
   "metadata": {
    "tags": []
   },
   "outputs": [],
   "source": [
    "from pyspark.sql import SparkSession\n",
    "spark = SparkSession.builder.getOrCreate()"
   ]
  },
  {
   "cell_type": "code",
   "execution_count": 3,
   "id": "c355c160-e7bc-45fd-bc25-29fdf707052c",
   "metadata": {
    "tags": []
   },
   "outputs": [],
   "source": [
    "import pandas as pd"
   ]
  },
  {
   "cell_type": "code",
   "execution_count": 4,
   "id": "618452d0-4370-4cbb-9ce8-bdd19cf17d0c",
   "metadata": {},
   "outputs": [],
   "source": [
    "games = spark.read.format('csv').option('header','true').load('all_games (1).csv')\n",
    "games.createOrReplaceTempView('games')\n",
    "#games.show(10)"
   ]
  },
  {
   "cell_type": "code",
   "execution_count": 23,
   "id": "2fa2dd81-2fab-4b8b-8107-50b8b89e8c58",
   "metadata": {},
   "outputs": [],
   "source": [
    "#spark.sql('select name from games').show()"
   ]
  },
  {
   "cell_type": "code",
   "execution_count": 24,
   "id": "ea827321-144c-4be0-9c91-b976c85a9156",
   "metadata": {
    "tags": []
   },
   "outputs": [],
   "source": [
    "#spark.sql('select* from games where user_review > 9.0').show()"
   ]
  },
  {
   "cell_type": "code",
   "execution_count": 32,
   "id": "7ad6be4c-5ba0-4e61-85a6-51be94476e9a",
   "metadata": {},
   "outputs": [
    {
     "name": "stdout",
     "output_type": "stream",
     "text": [
      "+-----------------+-----------+\n",
      "|         platform|count(name)|\n",
      "+-----------------+-----------+\n",
      "|               PC|       4864|\n",
      "|    PlayStation 4|       2056|\n",
      "|         Xbox 360|       1644|\n",
      "|    PlayStation 2|       1414|\n",
      "|           Switch|       1399|\n",
      "|    PlayStation 3|       1256|\n",
      "|         Xbox One|       1179|\n",
      "|             Xbox|        789|\n",
      "|               DS|        720|\n",
      "|              Wii|        655|\n",
      "|              PSP|        512|\n",
      "|         GameCube|        448|\n",
      "| Game Boy Advance|        438|\n",
      "|              3DS|        396|\n",
      "| PlayStation Vita|        257|\n",
      "|      PlayStation|        187|\n",
      "|            Wii U|        184|\n",
      "|        Dreamcast|        125|\n",
      "|    PlayStation 5|        124|\n",
      "|    Xbox Series X|         77|\n",
      "|      Nintendo 64|         71|\n",
      "|           Stadia|          5|\n",
      "+-----------------+-----------+\n",
      "\n"
     ]
    }
   ],
   "source": [
    "## What consoles tend to have more popular games?\n",
    "spark.sql('select platform,count(name) from games group by platform order by count(name) desc').show(22)"
   ]
  },
  {
   "cell_type": "code",
   "execution_count": 26,
   "id": "a0b1c244-d765-407a-a5ef-c2edde27f481",
   "metadata": {
    "tags": []
   },
   "outputs": [
    {
     "name": "stdout",
     "output_type": "stream",
     "text": [
      "+--------------------+------------+-----------+\n",
      "|                name|release_date|user_review|\n",
      "+--------------------+------------+-----------+\n",
      "|             Tengami|   13-Nov-14|        9.7|\n",
      "|        GrimGrimoire|   26-Jun-07|        9.7|\n",
      "|       Metal Torrent|   24-May-10|        9.7|\n",
      "|             Rochard|   27-Sep-11|        9.7|\n",
      "|Z.H.P. Unlosing R...|   25-Oct-10|        9.7|\n",
      "|Ghost Trick: Phan...|   11-Jan-11|        9.7|\n",
      "| After Burner Climax|   21-Apr-10|        9.7|\n",
      "|        Superliminal|    7-Jul-20|        9.6|\n",
      "|        Superliminal|    7-Jul-20|        9.6|\n",
      "|             Crystar|   27-Aug-19|        9.6|\n",
      "|Diaries of a Spac...|   16-Sep-16|        9.6|\n",
      "|The Witcher 3: Wi...|   18-May-15|        9.4|\n",
      "|The Witcher 3: Wi...|   30-May-16|        9.3|\n",
      "|    Astro's Playroom|   12-Nov-20|        9.3|\n",
      "|      The Orange Box|   10-Oct-07|        9.3|\n",
      "| Planescape: Torment|   14-Dec-99|        9.2|\n",
      "|      The Last of Us|   14-Jun-13|        9.2|\n",
      "|              Portal|   10-Oct-07|        9.2|\n",
      "|             Deus Ex|   23-Jun-00|        9.2|\n",
      "|The Last of Us Re...|   29-Jul-14|        9.2|\n",
      "+--------------------+------------+-----------+\n",
      "only showing top 20 rows\n",
      "\n"
     ]
    }
   ],
   "source": [
    "## What year were the most popular games released?\n",
    "spark.sql('select name,release_date,user_review from games where user_review > 0 and user_review < 10 order by user_review DESC').show(20)"
   ]
  },
  {
   "cell_type": "code",
   "execution_count": 30,
   "id": "30d41849-6468-488d-b068-af9561630d64",
   "metadata": {
    "tags": []
   },
   "outputs": [
    {
     "name": "stdout",
     "output_type": "stream",
     "text": [
      "+-----------------+------------------+\n",
      "|         platform|  avg(user_review)|\n",
      "+-----------------+------------------+\n",
      "|      Nintendo 64| 7.954929577464786|\n",
      "|        Dreamcast| 7.870588235294121|\n",
      "|      PlayStation| 7.722289156626499|\n",
      "|    PlayStation 2| 7.532494279176208|\n",
      "| Game Boy Advance| 7.467048710601719|\n",
      "|         GameCube| 7.430750605326878|\n",
      "|           Stadia|              7.38|\n",
      "|            Wii U| 7.312154696132594|\n",
      "|              PSP|  7.26788793103449|\n",
      "| PlayStation Vita|7.2677290836653325|\n",
      "|           Switch| 7.171052631578953|\n",
      "|             Xbox| 7.156997084548111|\n",
      "|               DS| 7.126878130217027|\n",
      "|              3DS| 7.103968253968257|\n",
      "|              Wii|7.0916247906197665|\n",
      "|    PlayStation 3| 6.924668874172182|\n",
      "|               PC| 6.918197424892696|\n",
      "|         Xbox 360| 6.915643180349057|\n",
      "|    PlayStation 5| 6.665454545454544|\n",
      "|    Xbox Series X| 6.658461538461539|\n",
      "+-----------------+------------------+\n",
      "only showing top 20 rows\n",
      "\n"
     ]
    }
   ],
   "source": [
    "## What consoles had the highest average user review?\n",
    "spark.sql(\"select platform,avg(user_review) from games group by platform order by avg(user_review) DESC\").show()"
   ]
  },
  {
   "cell_type": "code",
   "execution_count": 11,
   "id": "1f940f30-5b5a-4710-ae5b-24a7ba6f601d",
   "metadata": {
    "tags": []
   },
   "outputs": [
    {
     "name": "stdout",
     "output_type": "stream",
     "text": [
      "+--------------------+--------------+------------+--------------------+----------+-----------+\n",
      "|                name|      platform|release_date|             summary|meta_score|user_review|\n",
      "+--------------------+--------------+------------+--------------------+----------+-----------+\n",
      "| After Burner Climax|      Xbox 360|   21-Apr-10|[Xbox Live Arcade...|        72|        9.7|\n",
      "|             Tengami|         Wii U|   13-Nov-14|Set in Japan of a...|        70|        9.7|\n",
      "|             Rochard| PlayStation 3|   27-Sep-11|Players embrace t...|        79|        9.7|\n",
      "|Ghost Trick: Phan...|            DS|   11-Jan-11|Ghost Trick is a ...|        83|        9.7|\n",
      "|       Metal Torrent|            DS|   24-May-10|[DSiWare] Prepare...|        62|        9.7|\n",
      "|Z.H.P. Unlosing R...|           PSP|   25-Oct-10|Known as ZettaiHe...|        81|        9.7|\n",
      "|        GrimGrimoire| PlayStation 2|   26-Jun-07|Lillet Blan was v...|        79|        9.7|\n",
      "|Diaries of a Spac...|            PC|   16-Sep-16|Diaries of a Spac...|        69|        9.6|\n",
      "|             Crystar| PlayStation 4|   27-Aug-19|For when I weep, ...|        67|        9.6|\n",
      "|The Witcher 3: Wi...|            PC|   18-May-15|With the Empire a...|        93|        9.4|\n",
      "+--------------------+--------------+------------+--------------------+----------+-----------+\n",
      "only showing top 10 rows\n",
      "\n"
     ]
    }
   ],
   "source": [
    "## What are the top 10 most popular video games from 1990-2021?\n",
    "spark.sql('select * from games where meta_score > 0 and release_date > \"01-Jan-90\" and release_date < \"31-Dec-21\" and user_review < 10 order by user_review desc').show(10)"
   ]
  },
  {
   "cell_type": "code",
   "execution_count": 29,
   "id": "43bd641b-782e-4229-8ea1-33680449a1a5",
   "metadata": {},
   "outputs": [
    {
     "name": "stdout",
     "output_type": "stream",
     "text": [
      "+-----------------+\n",
      "| avg(user_review)|\n",
      "+-----------------+\n",
      "|6.990845999426491|\n",
      "+-----------------+\n",
      "\n"
     ]
    }
   ],
   "source": [
    "spark.sql('select avg(user_review) from games').show()"
   ]
  },
  {
   "cell_type": "code",
   "execution_count": 14,
   "id": "bcd5389f-7bb7-4a60-b17c-0c8971f848d8",
   "metadata": {},
   "outputs": [
    {
     "name": "stdout",
     "output_type": "stream",
     "text": [
      "+----+------------+\n",
      "|name|release_date|\n",
      "+----+------------+\n",
      "+----+------------+\n",
      "\n"
     ]
    }
   ],
   "source": [
    "spark.sql('select name,release_date from games where contains(release_date,\"OCT\")').show()"
   ]
  },
  {
   "cell_type": "code",
   "execution_count": 20,
   "id": "c1ff173a-8205-4e06-b8d5-b2e1e0dd1915",
   "metadata": {
    "tags": []
   },
   "outputs": [
    {
     "name": "stdout",
     "output_type": "stream",
     "text": [
      "+-------------------+\n",
      "|count(release_date)|\n",
      "+-------------------+\n",
      "|               2463|\n",
      "+-------------------+\n",
      "\n"
     ]
    }
   ],
   "source": [
    "x = spark.sql(\"select count(release_date) from games where release_date like '%Oct%'\").show()"
   ]
  },
  {
   "cell_type": "code",
   "execution_count": 21,
   "id": "ec4013dc-94e3-44e5-bca1-015a0a6d14ca",
   "metadata": {
    "tags": []
   },
   "outputs": [
    {
     "name": "stdout",
     "output_type": "stream",
     "text": [
      "+-------------------+\n",
      "|count(release_date)|\n",
      "+-------------------+\n",
      "|               2382|\n",
      "+-------------------+\n",
      "\n"
     ]
    }
   ],
   "source": [
    "y = spark.sql(\"select count(release_date) from games where release_date like '%Nov%'\").show()"
   ]
  },
  {
   "cell_type": "code",
   "execution_count": 22,
   "id": "4ae11c2a-4d9d-4859-9c0e-f8a02dffe805",
   "metadata": {
    "tags": []
   },
   "outputs": [
    {
     "ename": "AttributeError",
     "evalue": "'NoneType' object has no attribute 'join'",
     "output_type": "error",
     "traceback": [
      "\u001b[1;31m---------------------------------------------------------------------------\u001b[0m",
      "\u001b[1;31mAttributeError\u001b[0m                            Traceback (most recent call last)",
      "Cell \u001b[1;32mIn[22], line 1\u001b[0m\n\u001b[1;32m----> 1\u001b[0m z \u001b[38;5;241m=\u001b[39m \u001b[43mx\u001b[49m\u001b[38;5;241;43m.\u001b[39;49m\u001b[43mjoin\u001b[49m(y)\n",
      "\u001b[1;31mAttributeError\u001b[0m: 'NoneType' object has no attribute 'join'"
     ]
    }
   ],
   "source": [
    "z = x.join(y)"
   ]
  },
  {
   "cell_type": "code",
   "execution_count": null,
   "id": "a938131b-d024-4d23-848b-1a7b585ca7c6",
   "metadata": {},
   "outputs": [],
   "source": []
  }
 ],
 "metadata": {
  "kernelspec": {
   "display_name": "Python 3 (ipykernel)",
   "language": "python",
   "name": "python3"
  },
  "language_info": {
   "codemirror_mode": {
    "name": "ipython",
    "version": 3
   },
   "file_extension": ".py",
   "mimetype": "text/x-python",
   "name": "python",
   "nbconvert_exporter": "python",
   "pygments_lexer": "ipython3",
   "version": "3.10.0"
  }
 },
 "nbformat": 4,
 "nbformat_minor": 5
}
