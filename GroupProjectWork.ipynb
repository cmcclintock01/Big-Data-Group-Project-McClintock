{
 "cells": [
  {
   "cell_type": "code",
   "execution_count": 1,
   "id": "570486c4-16ba-4bce-97a8-4563c5a4e912",
   "metadata": {
    "tags": []
   },
   "outputs": [],
   "source": [
    "from pyspark.sql import SparkSession\n",
    "\n",
    "spark = SparkSession.builder.getOrCreate()"
   ]
  },
  {
   "cell_type": "code",
   "execution_count": 2,
   "id": "93825a1e-1c85-4c95-98b0-82ad9f20edf3",
   "metadata": {
    "tags": []
   },
   "outputs": [
    {
     "data": {
      "text/plain": [
       "DataFrame[name: string, platform: string, release_date: string, meta_score: string, user_review: string]"
      ]
     },
     "metadata": {},
     "output_type": "display_data"
    }
   ],
   "source": [
    "games = spark.read.format(\"csv\").option(\"header\", \"true\").load(\"all_games.csv\")\n",
    "games.createOrReplaceTempView(\"video_games\")\n",
    "display(games)"
   ]
  },
  {
   "cell_type": "code",
   "execution_count": 5,
   "id": "d31adbe8-883b-4094-b2a7-2336e1e83553",
   "metadata": {
    "tags": []
   },
   "outputs": [
    {
     "name": "stdout",
     "output_type": "stream",
     "text": [
      "+--------------------+--------------+------------+----------+-----------+\n",
      "|                name|      platform|release_date|meta_score|user_review|\n",
      "+--------------------+--------------+------------+----------+-----------+\n",
      "|The Legend of Zel...|   Nintendo 64|   23-Nov-98|        99|        9.1|\n",
      "|Tony Hawk's Pro S...|   PlayStation|   20-Sep-00|        98|        7.4|\n",
      "| Grand Theft Auto IV| PlayStation 3|   29-Apr-08|        98|        7.7|\n",
      "|         SoulCalibur|     Dreamcast|    8-Sep-99|        98|        8.4|\n",
      "| Grand Theft Auto IV|      Xbox 360|   29-Apr-08|        98|        7.9|\n",
      "|  Super Mario Galaxy|           Wii|   12-Nov-07|        97|        9.1|\n",
      "|Super Mario Galaxy 2|           Wii|   23-May-10|        97|        9.1|\n",
      "|Red Dead Redempti...|      Xbox One|   26-Oct-18|        97|          8|\n",
      "|  Grand Theft Auto V|      Xbox One|   18-Nov-14|        97|        7.9|\n",
      "|  Grand Theft Auto V| PlayStation 3|   17-Sep-13|        97|        8.3|\n",
      "|Disco Elysium: Th...|            PC|   30-Mar-21|        97|        8.3|\n",
      "|  Grand Theft Auto V|      Xbox 360|   17-Sep-13|        97|        8.3|\n",
      "|Tony Hawk's Pro S...|     Dreamcast|    6-Nov-00|        97|        6.2|\n",
      "|The Legend of Zel...|        Switch|    3-Mar-17|        97|        8.7|\n",
      "|Tony Hawk's Pro S...| PlayStation 2|   28-Oct-01|        97|        7.5|\n",
      "|        Perfect Dark|   Nintendo 64|   22-May-00|        97|        8.8|\n",
      "|Red Dead Redempti...| PlayStation 4|   26-Oct-18|        97|        8.5|\n",
      "|  Grand Theft Auto V| PlayStation 4|   18-Nov-14|        97|        8.4|\n",
      "|       Metroid Prime|      GameCube|   17-Nov-02|        97|        8.6|\n",
      "|Grand Theft Auto III| PlayStation 2|   22-Oct-01|        97|        8.4|\n",
      "+--------------------+--------------+------------+----------+-----------+\n",
      "only showing top 20 rows\n",
      "\n"
     ]
    }
   ],
   "source": [
    "spark.sql('SELECT * FROM video_games').show()"
   ]
  },
  {
   "cell_type": "code",
   "execution_count": 27,
   "id": "3afd4e57-ae5b-4f2f-8227-1a134850fe2b",
   "metadata": {
    "tags": []
   },
   "outputs": [
    {
     "data": {
      "text/plain": [
       "DataFrame[]"
      ]
     },
     "execution_count": 27,
     "metadata": {},
     "output_type": "execute_result"
    }
   ],
   "source": [
    "spark.sql(\"CREATE DATABASE IF NOT EXISTS vg\")"
   ]
  },
  {
   "cell_type": "code",
   "execution_count": 33,
   "id": "19ddd984-fe5b-43d4-b5da-9fc5d3e58c86",
   "metadata": {},
   "outputs": [
    {
     "name": "stdout",
     "output_type": "stream",
     "text": [
      "+--------------------+--------+-----------+\n",
      "|                name|platform|user_review|\n",
      "+--------------------+--------+-----------+\n",
      "|The Legend of Zel...|  Switch|        8.7|\n",
      "| Super Mario Odyssey|  Switch|        8.9|\n",
      "|The House in Fata...|  Switch|        8.2|\n",
      "|Tetris Effect: Co...|  Switch|        8.5|\n",
      "|               Hades|  Switch|          9|\n",
      "|Divinity: Origina...|  Switch|        8.5|\n",
      "|Ori and the Will ...|  Switch|        8.7|\n",
      "|           Undertale|  Switch|        8.2|\n",
      "|Super Smash Bros....|  Switch|        8.6|\n",
      "|             Celeste|  Switch|        8.6|\n",
      "|         Bayonetta 2|  Switch|        8.5|\n",
      "| Mario Kart 8 Deluxe|  Switch|        8.6|\n",
      "|              INSIDE|  Switch|        8.6|\n",
      "|Dragon Quest XI S...|  Switch|        8.9|\n",
      "|    Sonic Mania Plus|  Switch|        8.1|\n",
      "|SteamWorld Heist:...|  Switch|        8.3|\n",
      "|Shovel Knight: Tr...|  Switch|        8.2|\n",
      "|Animal Crossing: ...|  Switch|        5.5|\n",
      "|Ori and the Blind...|  Switch|        8.6|\n",
      "|             Bastion|  Switch|        7.7|\n",
      "+--------------------+--------+-----------+\n",
      "only showing top 20 rows\n",
      "\n",
      "+---------------+\n",
      "|            avg|\n",
      "+---------------+\n",
      "|6.9941352002755|\n",
      "+---------------+\n",
      "\n"
     ]
    }
   ],
   "source": [
    "switch = spark.sql(\"SELECT name, platform, user_review FROM video_games WHERE platform LIKE ' Switch';\")\n",
    "switch.show()\n",
    "avg = spark.sql(\"SELECT AVG(user_review) AS avg FROM video_games WHERE user_review > 0 AND user_review < 10\")\n",
    "avg.show()"
   ]
  },
  {
   "cell_type": "code",
   "execution_count": 24,
   "id": "b667fd35-7e8b-4429-b2d5-8f57aa232870",
   "metadata": {},
   "outputs": [
    {
     "name": "stdout",
     "output_type": "stream",
     "text": [
      "+-------+\n",
      "|January|\n",
      "+-------+\n",
      "|      5|\n",
      "+-------+\n",
      "\n",
      "+--------+\n",
      "|February|\n",
      "+--------+\n",
      "|       0|\n",
      "+--------+\n",
      "\n",
      "None None\n",
      "+-------+\n",
      "|January|\n",
      "+-------+\n",
      "|      5|\n",
      "+-------+\n",
      "\n",
      "+--------+\n",
      "|February|\n",
      "+--------+\n",
      "|       0|\n",
      "+--------+\n",
      "\n",
      "+-----+\n",
      "|March|\n",
      "+-----+\n",
      "|   10|\n",
      "+-----+\n",
      "\n",
      "+-----+\n",
      "|April|\n",
      "+-----+\n",
      "|    6|\n",
      "+-----+\n",
      "\n",
      "+---+\n",
      "|May|\n",
      "+---+\n",
      "|  9|\n",
      "+---+\n",
      "\n",
      "+----+\n",
      "|June|\n",
      "+----+\n",
      "|   4|\n",
      "+----+\n",
      "\n",
      "+----+\n",
      "|July|\n",
      "+----+\n",
      "|   9|\n",
      "+----+\n",
      "\n",
      "+------+\n",
      "|August|\n",
      "+------+\n",
      "|     6|\n",
      "+------+\n",
      "\n",
      "+---------+\n",
      "|September|\n",
      "+---------+\n",
      "|       10|\n",
      "+---------+\n",
      "\n",
      "+-------+\n",
      "|October|\n",
      "+-------+\n",
      "|     19|\n",
      "+-------+\n",
      "\n",
      "+--------+\n",
      "|November|\n",
      "+--------+\n",
      "|      12|\n",
      "+--------+\n",
      "\n",
      "+--------+\n",
      "|December|\n",
      "+--------+\n",
      "|       4|\n",
      "+--------+\n",
      "\n"
     ]
    }
   ],
   "source": [
    "january = spark.sql(\"SELECT COUNT(name) AS January FROM video_games WHERE CONTAINS(release_date, 'Jan') AND user_review > 9.0\")\n",
    "february = spark.sql(\"SELECT COUNT(name) AS February FROM video_games WHERE CONTAINS(release_date, 'Feb') AND user_review > 9.0\")\n",
    "march = spark.sql(\"SELECT COUNT(name) AS March FROM video_games WHERE CONTAINS(release_date, 'Mar') AND user_review > 9.0\")\n",
    "april = spark.sql(\"SELECT COUNT(name) AS April FROM video_games WHERE CONTAINS(release_date, 'Apr') AND user_review > 9.0\")\n",
    "may = spark.sql(\"SELECT COUNT(name) AS May FROM video_games WHERE CONTAINS(release_date, 'May') AND user_review > 9.0\")\n",
    "june = spark.sql(\"SELECT COUNT(name) AS June FROM video_games WHERE CONTAINS(release_date, 'Jun') AND user_review > 9.0\")\n",
    "july = spark.sql(\"SELECT COUNT(name) AS July FROM video_games WHERE CONTAINS(release_date, 'Jul') AND user_review > 9.0\")\n",
    "august = spark.sql(\"SELECT COUNT(name) AS August FROM video_games WHERE CONTAINS(release_date, 'Aug') AND user_review > 9.0\")\n",
    "september = spark.sql(\"SELECT COUNT(name) AS September FROM video_games WHERE CONTAINS(release_date, 'Sep') AND user_review > 9.0\")\n",
    "october = spark.sql(\"SELECT COUNT(name) AS October FROM video_games WHERE CONTAINS(release_date, 'Oct') AND user_review > 9.0\")\n",
    "november = spark.sql(\"SELECT COUNT(name) AS November FROM video_games WHERE CONTAINS(release_date, 'Nov') AND user_review > 9.0\")\n",
    "december = spark.sql(\"SELECT COUNT(name) AS December FROM video_games WHERE CONTAINS(release_date, 'Dec') AND user_review > 9.0\")\n",
    "january.show()\n",
    "february.show()\n",
    "march.show()\n",
    "april.show()\n",
    "may.show()\n",
    "june.show()\n",
    "july.show()\n",
    "august.show()\n",
    "september.show()\n",
    "october.show()\n",
    "november.show()\n",
    "december.show()"
   ]
  },
  {
   "cell_type": "code",
   "execution_count": null,
   "id": "72cf5ceb-4d9e-4141-af1b-46316151e01b",
   "metadata": {},
   "outputs": [],
   "source": []
  }
 ],
 "metadata": {
  "kernelspec": {
   "display_name": "Python 3 (ipykernel)",
   "language": "python",
   "name": "python3"
  },
  "language_info": {
   "codemirror_mode": {
    "name": "ipython",
    "version": 3
   },
   "file_extension": ".py",
   "mimetype": "text/x-python",
   "name": "python",
   "nbconvert_exporter": "python",
   "pygments_lexer": "ipython3",
   "version": "3.11.2"
  }
 },
 "nbformat": 4,
 "nbformat_minor": 5
}
